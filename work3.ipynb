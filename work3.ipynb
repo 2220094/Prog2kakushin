{
  "nbformat": 4,
  "nbformat_minor": 0,
  "metadata": {
    "colab": {
      "provenance": [],
      "authorship_tag": "ABX9TyPdHr6ZGqhISOtUBhE9IdEo",
      "include_colab_link": true
    },
    "kernelspec": {
      "name": "python3",
      "display_name": "Python 3"
    },
    "language_info": {
      "name": "python"
    }
  },
  "cells": [
    {
      "cell_type": "markdown",
      "metadata": {
        "id": "view-in-github",
        "colab_type": "text"
      },
      "source": [
        "<a href=\"https://colab.research.google.com/github/2220094/Prog2kakushin/blob/main/work3.ipynb\" target=\"_parent\"><img src=\"https://colab.research.google.com/assets/colab-badge.svg\" alt=\"Open In Colab\"/></a>"
      ]
    },
    {
      "cell_type": "markdown",
      "source": [
        "# 課題3"
      ],
      "metadata": {
        "id": "fzzjtxhfwENw"
      }
    },
    {
      "cell_type": "markdown",
      "source": [
        "## 構想案"
      ],
      "metadata": {
        "id": "sWzMsRO7vEx8"
      }
    },
    {
      "cell_type": "markdown",
      "source": [
        "真っ黒の一定の大きさの画像を作成し縦と横に長さの指標としてドット数のメモリを作る（５０や１００など）。そこにランダムで図形を生成する（四角形や線分など）。ユーザーはそれを参考にその位置を推定し、場所や角度などを打ち込む。最後にそれらのドットごとのRGBを比較し、「（値が同じだったドット数）/（全部のドット数）＊１００」によって何％同じ画像が作れたのかを判定する。"
      ],
      "metadata": {
        "id": "D-DXEZk5vqlf"
      }
    },
    {
      "cell_type": "code",
      "source": [],
      "metadata": {
        "id": "ymLWGPVjwJrQ"
      },
      "execution_count": null,
      "outputs": []
    }
  ]
}