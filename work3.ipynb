{
  "nbformat": 4,
  "nbformat_minor": 0,
  "metadata": {
    "colab": {
      "provenance": [],
      "authorship_tag": "ABX9TyMN1kEy8MSkbBxekeFZoYna",
      "include_colab_link": true
    },
    "kernelspec": {
      "name": "python3",
      "display_name": "Python 3"
    },
    "language_info": {
      "name": "python"
    }
  },
  "cells": [
    {
      "cell_type": "markdown",
      "metadata": {
        "id": "view-in-github",
        "colab_type": "text"
      },
      "source": [
        "<a href=\"https://colab.research.google.com/github/2220094/Prog2kakushin/blob/main/work3.ipynb\" target=\"_parent\"><img src=\"https://colab.research.google.com/assets/colab-badge.svg\" alt=\"Open In Colab\"/></a>"
      ]
    },
    {
      "cell_type": "markdown",
      "source": [
        "# 課題3"
      ],
      "metadata": {
        "id": "fzzjtxhfwENw"
      }
    },
    {
      "cell_type": "markdown",
      "source": [
        "## 構想案"
      ],
      "metadata": {
        "id": "sWzMsRO7vEx8"
      }
    },
    {
      "cell_type": "markdown",
      "source": [
        "一定の大きさの画像を作成し縦と横に長さの目安となる目盛りを作り、そこにランダムで図形を生成する。\n",
        "\n",
        "ユーザーはそれを参考にその位置を推定し、座標などを打ち込むといったクイズを作る。"
      ],
      "metadata": {
        "id": "D-DXEZk5vqlf"
      }
    },
    {
      "cell_type": "code",
      "source": [
        "import numpy as np\n",
        "import sys\n",
        "import cv2\n",
        "from google.colab.patches import cv2_imshow\n",
        "\n",
        "\n",
        "\n",
        "# 基本情報\n",
        "q_size = 100\n",
        "q_s = q_size\n",
        "\n",
        "frame_size = 150\n",
        "f_s = frame_size\n",
        "\n",
        "\n",
        "\n",
        "### お題を表示するための貼り付けもとになる画像\n",
        "\n",
        "## 基礎\n",
        "q_frame = np.zeros( (f_s, f_s, 3), np.uint8 )\n",
        "q_frame.fill( 255 )\n",
        "cv2.rectangle(q_frame, (0, 0), (f_s-1, f_s-1), color=(0, 0, 0))\n",
        "\n",
        "# Q.\n",
        "cv2.putText(q_frame,text='Q.',org=(3, 17),fontFace=cv2.FONT_HERSHEY_SIMPLEX,\n",
        "            fontScale=0.6,color=(0, 0, 0),thickness=1,lineType=cv2.LINE_AA)\n",
        "cv2.rectangle(q_frame, (0, 0), (23, 23), color=(0, 0, 0))\n",
        "\n",
        "\n",
        "## お題を表示する部分の枠\n",
        "cv2.rectangle(q_frame, (39, 39), (41+q_s, 41+q_s), color=(0, 0, 0))\n",
        "\n",
        "\n",
        "## 目盛り\n",
        "\n",
        "# x\n",
        "cv2.arrowedLine(q_frame,(75, 20),(105, 20),color=(0, 0, 0),thickness=1,\n",
        "                line_type=cv2.LINE_AA,shift=0,tipLength=0.2)\n",
        "cv2.putText(q_frame,text='x',org=(85, 15),fontFace=cv2.FONT_HERSHEY_SIMPLEX,\n",
        "            fontScale=0.5,color=(0, 0, 0),thickness=1,lineType=cv2.LINE_AA)\n",
        "\n",
        "# y\n",
        "cv2.arrowedLine(q_frame,(20, 75),(20, 105),color=(0, 0, 0),thickness=1,\n",
        "                line_type=cv2.LINE_AA,shift=0,tipLength=0.2)\n",
        "cv2.putText(q_frame,text='y',org=(7, 90),fontFace=cv2.FONT_HERSHEY_SIMPLEX,\n",
        "            fontScale=0.5,color=(0, 0, 0),thickness=1,lineType=cv2.LINE_AA)\n",
        "\n",
        "# 0\n",
        "cv2.line(q_frame,(39, 25),(39, 39),color=(0, 0, 0),\n",
        "         thickness=1,lineType=cv2.LINE_4,shift=0)\n",
        "cv2.line(q_frame,(25, 39),(39, 39),color=(0, 0, 0),\n",
        "         thickness=1,lineType=cv2.LINE_4,shift=0)\n",
        "cv2.putText(q_frame,text='0',org=(30, 37),fontFace=cv2.FONT_HERSHEY_SIMPLEX,\n",
        "            fontScale=0.4,color=(0, 0, 0),thickness=1,lineType=cv2.LINE_AA)\n",
        "\n",
        "# 100\n",
        "cv2.line(q_frame,(41+q_s, 25),(41+q_s, 41),color=(0, 0, 0),\n",
        "         thickness=1,lineType=cv2.LINE_4,shift=0)\n",
        "cv2.line(q_frame,(25, 41+q_s),(41, 41+q_s),color=(0, 0, 0),\n",
        "         thickness=1,lineType=cv2.LINE_4,shift=0)\n",
        "cv2.putText(q_frame,text='100',org=(16+q_s, 37),fontFace=cv2.FONT_HERSHEY_SIMPLEX,\n",
        "            fontScale=0.4,color=(0, 0, 0),thickness=1,lineType=cv2.LINE_AA)\n",
        "cv2.putText(q_frame,text='100',org=(14, 39+q_s),fontFace=cv2.FONT_HERSHEY_SIMPLEX,\n",
        "            fontScale=0.4,color=(0, 0, 0),thickness=1,lineType=cv2.LINE_AA)\n",
        "\n",
        "# 50\n",
        "cv2.line(q_frame,(40+50, 35),(40+50, 40),color=(0, 0, 0),\n",
        "         thickness=1,lineType=cv2.LINE_4,shift=0)\n",
        "cv2.line(q_frame,(35, 40+50),(40, 40+50),color=(0, 0, 0),\n",
        "         thickness=1,lineType=cv2.LINE_4,shift=0)\n",
        "\n",
        "\n",
        "\n",
        "### お題となる画像の作成と表示\n",
        "\n",
        "## 基礎\n",
        "q = np.zeros( (q_s, q_s, 3), np.uint8 )\n",
        "q.fill( 255 )\n",
        "\n",
        "\n",
        "## お題の生成\n",
        "\n",
        "# 円\n",
        "r_max = 30\n",
        "r_min = 15\n",
        "\n",
        "circle_radius = np.random.randint(r_min,r_max)\n",
        "c_r = circle_radius\n",
        "\n",
        "circle_center_x = np.random.randint(r_max,q_s-r_max)\n",
        "c_x = circle_center_x\n",
        "\n",
        "circle_center_y = np.random.randint(r_max,q_s-r_max)\n",
        "c_y = circle_center_y\n",
        "\n",
        "cv2.circle(q,center=(c_x, c_y),radius=c_r,color=(0, 0, 255),\n",
        "           thickness=1,lineType=cv2.LINE_AA,shift=0)\n",
        "\n",
        "\n",
        "## 貼り付け\n",
        "q_frame[40:40+q_s, 40:40+q_s] = q\n",
        "\n",
        "\n",
        "\n",
        "### お題を拡大表示するための画像を作成\n",
        "\n",
        "x = 3  # 拡大倍率\n",
        "q_see = cv2.resize( q_frame, (int(q_s*x), int(q_s*x)) )\n",
        "\n",
        "\n",
        "\n",
        "### お題の表示\n",
        "cv2_imshow(q_see)\n",
        "\n",
        "\n",
        "\n",
        "### クイズ\n",
        "print()\n",
        "print('上の枠内に表示されている赤色の円について、')\n",
        "print('次の値を予想して入力してください。（半角数字で入力）')\n",
        "print()\n",
        "q_r = int(input('円の半径：'))\n",
        "q_x = int(input('円の中心のｘ座標：'))\n",
        "q_y = int(input('円の中心のｙ座標：'))\n",
        "\n",
        "print()\n",
        "print()\n",
        "\n",
        "### 答え合わせ\n",
        "\n",
        "print('答え合わせです。')\n",
        "print()\n",
        "\n",
        "## お題と解答を比較する画像の作成\n",
        "a = q\n",
        "cv2.circle(a,center=(q_x, q_y),radius=q_r,color=(255, 0, 0),\n",
        "           thickness=1,lineType=cv2.LINE_AA,shift=0)\n",
        "\n",
        "a_frame = np.zeros( (f_s, f_s, 3), np.uint8 )\n",
        "a_frame.fill( 255 )\n",
        "cv2.rectangle(a_frame, (0, 0), (f_s-1, f_s-1), color=(0, 0, 0))\n",
        "\n",
        "cv2.putText(a_frame,text='A.',org=(3, 17),fontFace=cv2.FONT_HERSHEY_SIMPLEX,\n",
        "            fontScale=0.6,color=(0, 0, 0),thickness=1,lineType=cv2.LINE_AA)\n",
        "cv2.rectangle(a_frame, (0, 0), (23, 23), color=(0, 0, 0))\n",
        "\n",
        "cv2.rectangle(a_frame, (39, 39), (41+q_s, 41+q_s), color=(0, 0, 0))\n",
        "\n",
        "a_frame[40:40+q_s, 40:40+q_s] = a\n",
        "\n",
        "a_see = cv2.resize( a_frame, (int(q_s*x), int(q_s*x)) )\n",
        "\n",
        "cv2_imshow(a_see)\n",
        "\n",
        "print()\n",
        "print('青色の円はあなたの解答に基づいて作られました。')\n",
        "print()\n",
        "\n",
        "if q_r == c_r and q_x == c_x and q_y == c_y :\n",
        "  print('全問正解！！すごい！！')\n",
        "  print()\n",
        "\n",
        "print('正解は、')\n",
        "print(f'円の半径：{c_r}')\n",
        "print(f'円の中心のｘ座標：{c_x}')\n",
        "print(f'円の中心のｙ座標：{c_y}')\n",
        "print()\n",
        "print('でした。')"
      ],
      "metadata": {
        "id": "ymLWGPVjwJrQ",
        "colab": {
          "base_uri": "https://localhost:8080/",
          "height": 964
        },
        "outputId": "88e7be98-0772-47c8-ed9f-61f12d465d59"
      },
      "execution_count": 79,
      "outputs": [
        {
          "output_type": "display_data",
          "data": {
            "text/plain": [
              "<PIL.Image.Image image mode=RGB size=300x300 at 0x7FC53A8C9760>"
            ],
            "image/png": "[encoded data removed]"
          },
          "metadata": {}
        },
        {
          "output_type": "stream",
          "name": "stdout",
          "text": [
            "\n",
            "上の枠内に表示されている赤色の円について、\n",
            "次の値を予想して入力してください。（半角数字で入力）\n",
            "\n",
            "円の半径：15\n",
            "円の中心のｘ座標：30\n",
            "円の中心のｙ座標：30\n",
            "\n",
            "\n",
            "答え合わせです。\n",
            "\n"
          ]
        },
        {
          "output_type": "display_data",
          "data": {
            "text/plain": [
              "<PIL.Image.Image image mode=RGB size=300x300 at 0x7FC53A8C9A90>"
            ],
            "image/png": "[encoded data removed]"
          },
          "metadata": {}
        },
        {
          "output_type": "stream",
          "name": "stdout",
          "text": [
            "\n",
            "青色の円はあなたの解答に基づいて作られました。\n",
            "\n",
            "正解は、\n",
            "円の半径：28\n",
            "円の中心のｘ座標：32\n",
            "円の中心のｙ座標：35\n",
            "\n",
            "でした。\n"
          ]
        }
      ]
    }
  ]
}