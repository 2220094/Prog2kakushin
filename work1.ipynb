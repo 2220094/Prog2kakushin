{
  "nbformat": 4,
  "nbformat_minor": 0,
  "metadata": {
    "colab": {
      "provenance": [],
      "authorship_tag": "ABX9TyOJFwdkESP19FVJTpOoxTkd",
      "include_colab_link": true
    },
    "kernelspec": {
      "name": "python3",
      "display_name": "Python 3"
    },
    "language_info": {
      "name": "python"
    }
  },
  "cells": [
    {
      "cell_type": "markdown",
      "metadata": {
        "id": "view-in-github",
        "colab_type": "text"
      },
      "source": [
        "<a href=\"https://colab.research.google.com/github/2220094/Prog2kakushin/blob/main/work1.ipynb\" target=\"_parent\"><img src=\"https://colab.research.google.com/assets/colab-badge.svg\" alt=\"Open In Colab\"/></a>"
      ]
    },
    {
      "cell_type": "markdown",
      "source": [
        "#課題１"
      ],
      "metadata": {
        "id": "zXU1cw92rFOX"
      }
    },
    {
      "cell_type": "markdown",
      "source": [
        "## 構想案"
      ],
      "metadata": {
        "id": "sWzMsRO7vEx8"
      }
    },
    {
      "cell_type": "markdown",
      "source": [
        "表を使って来年のカレンダーを作成する。行としてその月の第何週目かを、列として何何曜日かを設ける。可能であれば祝日の列などを設け、祝日の情報を得られるようにする。"
      ],
      "metadata": {
        "id": "D-DXEZk5vqlf"
      }
    },
    {
      "cell_type": "code",
      "execution_count": null,
      "metadata": {
        "id": "aMmRZUlfq7bc"
      },
      "outputs": [],
      "source": []
    }
  ]
}