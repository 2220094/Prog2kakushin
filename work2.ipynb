{
  "nbformat": 4,
  "nbformat_minor": 0,
  "metadata": {
    "colab": {
      "provenance": [],
      "authorship_tag": "ABX9TyOgfxOKkyB1xnXml1zYrkbW",
      "include_colab_link": true
    },
    "kernelspec": {
      "name": "python3",
      "display_name": "Python 3"
    },
    "language_info": {
      "name": "python"
    }
  },
  "cells": [
    {
      "cell_type": "markdown",
      "metadata": {
        "id": "view-in-github",
        "colab_type": "text"
      },
      "source": [
        "<a href=\"https://colab.research.google.com/github/2220094/Prog2kakushin/blob/main/work2.ipynb\" target=\"_parent\"><img src=\"https://colab.research.google.com/assets/colab-badge.svg\" alt=\"Open In Colab\"/></a>"
      ]
    },
    {
      "cell_type": "markdown",
      "source": [
        "#課題2"
      ],
      "metadata": {
        "id": "cC5LH_rFvuXR"
      }
    },
    {
      "cell_type": "markdown",
      "source": [
        "## 構想案"
      ],
      "metadata": {
        "id": "sWzMsRO7vEx8"
      }
    },
    {
      "cell_type": "markdown",
      "source": [
        "ゲームの攻略サイトなどにあるようなガチャシミュレータを作る。乱数を生成しその値に応じて結果を決める。自分の好きなゲームのガチャについての排出率を打ち込むことで、ユーザーの好みのゲームに対応したものになるようにする。可能であれば、レアリティごとの排出率だけでなく、狙っているキャラがでたかどうかなどもそのキャラの排出率を打ち込むことで結果として表示させられるとよりシミュレータとして扱えると思う。"
      ],
      "metadata": {
        "id": "D-DXEZk5vqlf"
      }
    },
    {
      "cell_type": "code",
      "source": [
        "import numpy as np\n",
        "\n",
        "##ゲームを選択してガチャの排出率を決定する部分\n",
        "\n",
        "# ゲームのリスト（appstoreのセールスランキング上位のゲームからピックアップ）\n",
        "game_list = ['モンスト','ウマ娘','FGO','プロスピ','原神','プロセカ']\n",
        "\n",
        "print('ガチャシミュレーションしたいゲームを番号で選択してください。')\n",
        "print('ゲームのリストに自分のシミュレーションしたいゲームがない場合は、0 を選択してガチャの排出率をキーボードから入力してください。')\n",
        "\n",
        "print()\n",
        "\n",
        "print('0 : 自分で排出率を入力')\n",
        "for j in range(len(game_list)):\n",
        "  print(j+1,':',game_list[j])\n",
        "\n",
        "monsuto = [12, 88]\n",
        "umamusume = [3, 18, 79]\n",
        "fgo = [5, 15, 80]\n",
        "purosupi = [2.5, 8.5, 89]\n",
        "genshin = [0.6, 5.1, 94.3]\n",
        "puroseka = [3, 8.5, 88.5]\n",
        "\n",
        "game_lib = {1:monsuto, 2:umamusume, 3:fgo, 4:purosupi, 5:genshin, 6:puroseka}\n",
        "\n",
        "print()\n",
        "\n",
        "choice = int(input('ゲームを選択してください。（半角数字）：'))\n",
        "print()\n",
        "\n",
        "if choice == 0 :\n",
        "  print('0 : 自分で排出率を入力 が選択されました。')\n",
        "\n",
        "  print()\n",
        "  print()\n",
        "\n",
        "  print('ガチャの排出率(%)を入力していきます。')\n",
        "  print()\n",
        "  selfplist = []\n",
        "  r = int(input('レアリティは何段階ありますか？（半角数字）:'))\n",
        "  print()\n",
        "  for rn in range (r) :\n",
        "    selfp = float(input(f'{rn+1}番目のレアリティの排出率(%)を入力してください。（半角数字）:'))\n",
        "    selfplist.append(selfp)\n",
        "    plist = selfplist\n",
        "  print()\n",
        "\n",
        "else :\n",
        "  print(game_list[choice-1],'が選択されました。')\n",
        "  plist = game_lib[choice]\n",
        "  print()\n",
        "\n",
        "print()\n",
        "\n",
        "\n",
        "##狙っているキャラなどがいる場合\n",
        "\n",
        "print('狙っているキャラなどはありますか？')\n",
        "print('この機能では、特定のキャラが排出されたかどうかを判定することができます。')\n",
        "print('例えば、ピックアップされているキャラが出たかどうかを判定することができます！')\n",
        "print()\n",
        "puq = int(input('ない場合は 0 を、ある場合は 1 を入力してください。（半角数字）:'))\n",
        "\n",
        "print()\n",
        "\n",
        "if puq == 0 :\n",
        "  print('狙っているキャラなどが ない を選択しました。')\n",
        "\n",
        "elif puq  == 1 :\n",
        "  print('狙っているキャラなどが ある を選択しました。')\n",
        "\n",
        "  print()\n",
        "  \n",
        "  pun = int(input('狙っているキャラはいくつありますか？（半角数字）:'))\n",
        "\n",
        "  print()\n",
        "\n",
        "  puclist = []\n",
        "  puplist = []\n",
        "  puap = 0\n",
        "  for pu in range (pun) :\n",
        "    puc = input(f'{pu+1}つめの狙っているキャラの名前を入力してください。:')\n",
        "    puclist.append(puc)\n",
        "    pup = float(input('そのキャラの排出率を入力してください。（半角数字）:'))\n",
        "    puplist.append(pup)\n",
        "    pur = int(input('そのキャラは何番目のレアリティですか？（半角数字）:'))\n",
        "    plist[pur-1] = plist[pur-1] - pup\n",
        "    \n",
        "    print()\n",
        "\n",
        "  plist = puplist + plist\n",
        "  print(plist)\n",
        "\n",
        "print()\n",
        "\n",
        "\n",
        "##ガチャを引き、結果を判定・表示する部分\n",
        "\n",
        "number = int(input('ガチャは何回引きますか？（半角数字）：'))\n",
        "print(number,'回ガチャを引きます。')\n",
        "print()\n",
        "gacha = np.random.random(number) * 100\n",
        "#print(gacha)\n",
        "\n",
        "z = 0\n",
        "\n",
        "for i in range(len(plist)):\n",
        "\n",
        "  print()\n",
        "\n",
        "  if puq == 1:\n",
        "    if i <= pun-1:\n",
        "      print(puclist[i])\n",
        "    else :\n",
        "      print(f'{i+1-pun}番目のレアリティ')\n",
        " \n",
        "  else :\n",
        "    print(f'{i+1}番目のレアリティ')\n",
        "\n",
        "  n = gacha\n",
        "  x = np.where( (n >= z) & (n <= z + plist[i]), 'e', n)\n",
        "  z += plist[i]\n",
        "  y = np.where(x == 'e', 1,0)\n",
        "  print(np.sum(y),'回 排出されました。')"
      ],
      "metadata": {
        "id": "jbOt8JjnwJL7",
        "colab": {
          "base_uri": "https://localhost:8080/"
        },
        "outputId": "63e17630-013e-4b59-98ab-d9a9b2be29e7"
      },
      "execution_count": 41,
      "outputs": [
        {
          "output_type": "stream",
          "name": "stdout",
          "text": [
            "ガチャシミュレーションしたいゲームを番号で選択してください。\n",
            "ゲームのリストに自分のシミュレーションしたいゲームがない場合は、0 を選択してガチャの排出率をキーボードから入力してください。\n",
            "\n",
            "0 : 自分で排出率を入力\n",
            "1 : モンスト\n",
            "2 : ウマ娘\n",
            "3 : FGO\n",
            "4 : プロスピ\n",
            "5 : 原神\n",
            "6 : プロセカ\n",
            "\n",
            "ゲームを選択してください。（半角数字）：6\n",
            "\n",
            "プロセカ が選択されました。\n",
            "\n",
            "\n",
            "狙っているキャラなどはありますか？\n",
            "この機能では、特定のキャラが排出されたかどうかを判定することができます。\n",
            "例えば、ピックアップされているキャラが出たかどうかを判定することができます！\n",
            "\n",
            "ない場合は 0 を、ある場合は 1 を入力してください。（半角数字）:0\n",
            "\n",
            "狙っているキャラなどが ない を選択しました。\n",
            "\n",
            "ガチャは何回引きますか？（半角数字）：10000\n",
            "10000 回ガチャを引きます。\n",
            "\n",
            "\n",
            "1番目のレアリティ\n",
            "319 回 排出されました。\n",
            "\n",
            "2番目のレアリティ\n",
            "819 回 排出されました。\n",
            "\n",
            "3番目のレアリティ\n",
            "8862 回 排出されました。\n"
          ]
        }
      ]
    }
  ]
}