{
  "nbformat": 4,
  "nbformat_minor": 0,
  "metadata": {
    "colab": {
      "provenance": [],
      "authorship_tag": "ABX9TyNenPbcg5gdvdDiyNyYCnVl",
      "include_colab_link": true
    },
    "kernelspec": {
      "name": "python3",
      "display_name": "Python 3"
    },
    "language_info": {
      "name": "python"
    }
  },
  "cells": [
    {
      "cell_type": "markdown",
      "metadata": {
        "id": "view-in-github",
        "colab_type": "text"
      },
      "source": [
        "<a href=\"https://colab.research.google.com/github/2220094/Prog2kakushin/blob/main/work2.ipynb\" target=\"_parent\"><img src=\"https://colab.research.google.com/assets/colab-badge.svg\" alt=\"Open In Colab\"/></a>"
      ]
    },
    {
      "cell_type": "markdown",
      "source": [
        "#課題2"
      ],
      "metadata": {
        "id": "cC5LH_rFvuXR"
      }
    },
    {
      "cell_type": "markdown",
      "source": [
        "## 構想案"
      ],
      "metadata": {
        "id": "sWzMsRO7vEx8"
      }
    },
    {
      "cell_type": "markdown",
      "source": [
        "ゲームの攻略サイトなどにあるようなガチャシミュレータのようなものを作る。乱数を生成しその値に応じて結果を決める。自分の好きなゲームのガチャについての排出率を打ち込むことで、ユーザーの好みのゲームに対応したものになるようにする。可能であれば、レアリティごとの排出率だけでなく、狙っているキャラがでたかどうかなどもそのキャラの排出率を打ち込むことで結果として表示させられるとよりシミュレータとして扱えると思う。"
      ],
      "metadata": {
        "id": "D-DXEZk5vqlf"
      }
    },
    {
      "cell_type": "code",
      "source": [],
      "metadata": {
        "id": "jbOt8JjnwJL7"
      },
      "execution_count": null,
      "outputs": []
    }
  ]
}